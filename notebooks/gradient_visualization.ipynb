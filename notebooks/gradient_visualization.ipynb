{
 "cells": [
  {
   "cell_type": "markdown",
   "metadata": {},
   "source": [
    "# Gradient visualization of an image\n",
    "\n",
    "Gradient visualization of an image using sobel edge detection."
   ]
  },
  {
   "cell_type": "code",
   "execution_count": null,
   "metadata": {},
   "outputs": [],
   "source": [
    "import numpy as np\n",
    "from scipy import ndimage\n",
    "import matplotlib.pyplot as plt\n",
    "import cv2\n",
    "\n",
    "# load image\n",
    "img = cv2.imread(\"../data/train256/images/Star_a4468c08-9386-11ee-9b0d-f4c88a780d10.png\")\n",
    "img = img[:,:,1] / 256\n",
    "\n",
    "# visualize\n",
    "plt.imshow(img,cmap=plt.cm.gray)\n",
    "plt.show()"
   ]
  },
  {
   "cell_type": "code",
   "execution_count": null,
   "metadata": {},
   "outputs": [],
   "source": [
    "# Get x-gradient in \"sx\"\n",
    "sx = ndimage.sobel(img,axis=0,mode='constant')\n",
    "# Get y-gradient in \"sy\"\n",
    "sy = ndimage.sobel(img,axis=1,mode='constant')\n",
    "# Get square root of sum of squares\n",
    "sobel=np.hypot(sx,sy)\n",
    "\n",
    "# visualize edges\n",
    "plt.imshow(sobel, cmap=\"plasma\", )\n",
    "plt.colorbar(label=\"Gradient\")\n",
    "plt.title(\"Example visualization of the gradient for:\\nStar_a4468c08-9386-11ee-9b0d-f4c88a780d10\")\n",
    "plt.show()"
   ]
  }
 ],
 "metadata": {
  "kernelspec": {
   "display_name": "three_D",
   "language": "python",
   "name": "python3"
  },
  "language_info": {
   "codemirror_mode": {
    "name": "ipython",
    "version": 3
   },
   "file_extension": ".py",
   "mimetype": "text/x-python",
   "name": "python",
   "nbconvert_exporter": "python",
   "pygments_lexer": "ipython3",
   "version": "3.10.13"
  }
 },
 "nbformat": 4,
 "nbformat_minor": 2
}
